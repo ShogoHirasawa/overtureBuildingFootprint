{
  "cells": [
    {
      "cell_type": "markdown",
      "metadata": {
        "id": "q-2q_sBUBYfX"
      },
      "source": [
        "目的:Overtureの地図データから任意の地域の建物データを抽出する。"
      ]
    },
    {
      "cell_type": "code",
      "execution_count": null,
      "metadata": {
        "id": "wxv61_pCAr9U"
      },
      "outputs": [],
      "source": [
        "import duckdb\n",
        "import pandas as pd"
      ]
    },
    {
      "cell_type": "code",
      "execution_count": null,
      "metadata": {
        "id": "5-4MGoXs_7VH"
      },
      "outputs": [],
      "source": [
        "con = duckdb.connect()\n",
        "con.execute(\"INSTALL httpfs;\")\n",
        "con.execute(\"INSTALL spatial;\")\n",
        "con.execute(\"LOAD httpfs;\")\n",
        "con.execute(\"LOAD spatial;\");\n",
        "con.execute(\"SET s3_region='us-west-2';\")"
      ]
    },
    {
      "cell_type": "markdown",
      "metadata": {
        "id": "_vi138wkBMdu"
      },
      "source": [
        "POLYGONの部分に任意のポリゴン座標を入れる。下の例はペルーSalinas市が入っている。"
      ]
    },
    {
      "cell_type": "code",
      "execution_count": null,
      "metadata": {
        "id": "lIxLy6_iZYFp"
      },
      "outputs": [],
      "source": [
        "query_buildings = \"\"\"COPY (\n",
        "    SELECT\n",
        "           theme,\n",
        "           type,\n",
        "           version,\n",
        "           updateTime,\n",
        "           JSON(sources) AS sources,\n",
        "           JSON(names) AS names,\n",
        "           height,\n",
        "           numFloors,\n",
        "           class,\n",
        "           ST_GeomFromWkb(geometry) AS geometry\n",
        "      FROM read_parquet('s3://overturemaps-us-west-2/release/2023-07-26-alpha.0/theme=buildings/type=*/*')\n",
        "     WHERE ST_Within(ST_GeomFromWkb(geometry), ST_Envelope(ST_GeomFromText('POLYGON((-81.0575 -2.3667,-81.0555 -2.1611,-80.7804 -2.1437,-80.7785 -2.3854,-81.0575 -2.3667))')))\n",
        ") TO 'buildings.parquet'\n",
        "WITH (FORMAT PARQUET);\n",
        "\"\"\""
      ]
    },
    {
      "cell_type": "markdown",
      "source": [
        "buildings.paraquetとして出力する。1時間強くらい時間かかる場合もあるので、気長に待ってね。"
      ],
      "metadata": {
        "id": "tfhKpDd8CHwY"
      }
    },
    {
      "cell_type": "code",
      "execution_count": null,
      "metadata": {
        "colab": {
          "background_save": true
        },
        "id": "1PGRU7T4bSbj"
      },
      "outputs": [],
      "source": [
        "con.sql(query_buildings)"
      ]
    }
  ],
  "metadata": {
    "colab": {
      "provenance": []
    },
    "kernelspec": {
      "display_name": "Python 3",
      "name": "python3"
    },
    "language_info": {
      "name": "python"
    }
  },
  "nbformat": 4,
  "nbformat_minor": 0
}